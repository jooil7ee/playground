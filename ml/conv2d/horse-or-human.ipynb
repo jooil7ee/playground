{
 "cells": [
  {
   "cell_type": "code",
   "execution_count": 1,
   "id": "96d8d5b8-09b2-4fdd-8d7a-021957ade025",
   "metadata": {},
   "outputs": [],
   "source": [
    "import tensorflow as tf\n",
    "import tensorflow.keras.layers as layer\n",
    "from tensorflow.keras.preprocessing.image import ImageDataGenerator\n",
    "#from tensorflow.keras.optimizers import RMSprop\n",
    "from tensorflow.keras.optimizers.legacy import RMSprop"
   ]
  },
  {
   "cell_type": "code",
   "execution_count": 2,
   "id": "8f0e797c-ed58-4b4e-a4a4-816fa81d65a5",
   "metadata": {},
   "outputs": [],
   "source": [
    "training_dir = \"horse-or-human/training\" "
   ]
  },
  {
   "cell_type": "code",
   "execution_count": 3,
   "id": "a2918878-b7bc-4f88-9ada-8557a362ca36",
   "metadata": {},
   "outputs": [
    {
     "name": "stdout",
     "output_type": "stream",
     "text": [
      "Found 1032 images belonging to 2 classes.\n"
     ]
    }
   ],
   "source": [
    "train_datagen = ImageDataGenerator(rescale=1./255)\n",
    "train_generator = train_datagen.flow_from_directory(\n",
    "    training_dir,\n",
    "    target_size=(300,300),\n",
    "    class_mode=\"binary\"\n",
    ")"
   ]
  },
  {
   "cell_type": "code",
   "execution_count": 4,
   "id": "3ef02f8d-4a82-41d4-8bb3-e4b2e07718b4",
   "metadata": {},
   "outputs": [
    {
     "name": "stdout",
     "output_type": "stream",
     "text": [
      "Model: \"sequential\"\n",
      "_________________________________________________________________\n",
      " Layer (type)                Output Shape              Param #   \n",
      "=================================================================\n",
      " conv2d (Conv2D)             (None, 298, 298, 16)      448       \n",
      "                                                                 \n",
      " max_pooling2d (MaxPooling2  (None, 149, 149, 16)      0         \n",
      " D)                                                              \n",
      "                                                                 \n",
      " conv2d_1 (Conv2D)           (None, 147, 147, 32)      4640      \n",
      "                                                                 \n",
      " max_pooling2d_1 (MaxPoolin  (None, 73, 73, 32)        0         \n",
      " g2D)                                                            \n",
      "                                                                 \n",
      " conv2d_2 (Conv2D)           (None, 71, 71, 64)        18496     \n",
      "                                                                 \n",
      " max_pooling2d_2 (MaxPoolin  (None, 35, 35, 64)        0         \n",
      " g2D)                                                            \n",
      "                                                                 \n",
      " conv2d_3 (Conv2D)           (None, 33, 33, 64)        36928     \n",
      "                                                                 \n",
      " max_pooling2d_3 (MaxPoolin  (None, 16, 16, 64)        0         \n",
      " g2D)                                                            \n",
      "                                                                 \n",
      " conv2d_4 (Conv2D)           (None, 14, 14, 64)        36928     \n",
      "                                                                 \n",
      " max_pooling2d_4 (MaxPoolin  (None, 7, 7, 64)          0         \n",
      " g2D)                                                            \n",
      "                                                                 \n",
      " flatten (Flatten)           (None, 3136)              0         \n",
      "                                                                 \n",
      " dense (Dense)               (None, 512)               1606144   \n",
      "                                                                 \n",
      " dense_1 (Dense)             (None, 1)                 513       \n",
      "                                                                 \n",
      "=================================================================\n",
      "Total params: 1704097 (6.50 MB)\n",
      "Trainable params: 1704097 (6.50 MB)\n",
      "Non-trainable params: 0 (0.00 Byte)\n",
      "_________________________________________________________________\n"
     ]
    }
   ],
   "source": [
    "model = tf.keras.models.Sequential([\n",
    "    layer.Conv2D(16, (3, 3), activation=\"relu\", input_shape=(300, 300, 3)),\n",
    "    layer.MaxPooling2D((2, 2)),\n",
    "    layer.Conv2D(32, (3, 3), activation=\"relu\"),\n",
    "    layer.MaxPooling2D((2, 2)),\n",
    "    layer.Conv2D(64, (3, 3), activation=\"relu\"),\n",
    "    layer.MaxPooling2D((2, 2)),\n",
    "    layer.Conv2D(64, (3, 3), activation=\"relu\"),\n",
    "    layer.MaxPooling2D((2, 2)),\n",
    "    layer.Conv2D(64, (3, 3), activation=\"relu\"),\n",
    "    layer.MaxPooling2D((2, 2)),\n",
    "    layer.Flatten(),\n",
    "    layer.Dense(512, activation=\"relu\"),\n",
    "    layer.Dense(1, activation=\"sigmoid\")\n",
    "])\n",
    "\n",
    "model.summary()"
   ]
  },
  {
   "cell_type": "code",
   "execution_count": 5,
   "id": "48d9da79-49f4-48a9-a82e-c893955dd7e7",
   "metadata": {},
   "outputs": [
    {
     "name": "stdout",
     "output_type": "stream",
     "text": [
      "Epoch 1/15\n",
      "33/33 [==============================] - 15s 447ms/step - loss: 0.7249 - accuracy: 0.6599\n",
      "Epoch 2/15\n",
      "33/33 [==============================] - 10s 298ms/step - loss: 0.2813 - accuracy: 0.9079\n",
      "Epoch 3/15\n",
      "33/33 [==============================] - 10s 301ms/step - loss: 0.1647 - accuracy: 0.9351\n",
      "Epoch 4/15\n",
      "33/33 [==============================] - 10s 304ms/step - loss: 0.1873 - accuracy: 0.9545\n",
      "Epoch 5/15\n",
      "33/33 [==============================] - 10s 301ms/step - loss: 0.2434 - accuracy: 0.9545\n",
      "Epoch 6/15\n",
      "33/33 [==============================] - 10s 298ms/step - loss: 0.0160 - accuracy: 0.9932\n",
      "Epoch 7/15\n",
      "33/33 [==============================] - 10s 300ms/step - loss: 0.3146 - accuracy: 0.9506\n",
      "Epoch 8/15\n",
      "33/33 [==============================] - 10s 305ms/step - loss: 0.0400 - accuracy: 0.9903\n",
      "Epoch 9/15\n",
      "33/33 [==============================] - 10s 308ms/step - loss: 0.5075 - accuracy: 0.9729\n",
      "Epoch 10/15\n",
      "33/33 [==============================] - 11s 316ms/step - loss: 0.0016 - accuracy: 1.0000\n",
      "Epoch 11/15\n",
      "33/33 [==============================] - 11s 333ms/step - loss: 0.0989 - accuracy: 0.9884\n",
      "Epoch 12/15\n",
      "33/33 [==============================] - 11s 330ms/step - loss: 0.0488 - accuracy: 0.9893\n",
      "Epoch 13/15\n",
      "33/33 [==============================] - 10s 310ms/step - loss: 2.4579e-04 - accuracy: 1.0000\n",
      "Epoch 14/15\n",
      "33/33 [==============================] - 10s 307ms/step - loss: 0.0772 - accuracy: 0.9864\n",
      "Epoch 15/15\n",
      "33/33 [==============================] - 10s 305ms/step - loss: 2.3449e-04 - accuracy: 1.0000\n"
     ]
    },
    {
     "data": {
      "text/plain": [
       "<keras.src.callbacks.History at 0x17252ec50>"
      ]
     },
     "execution_count": 5,
     "metadata": {},
     "output_type": "execute_result"
    }
   ],
   "source": [
    "model.compile(loss=\"binary_crossentropy\",\n",
    "              optimizer=RMSprop(learning_rate=0.001),\n",
    "              metrics=[\"accuracy\"])\n",
    "model.fit(train_generator, epochs=15)"
   ]
  },
  {
   "cell_type": "code",
   "execution_count": null,
   "id": "4804f446-7d1f-4002-b4ac-5f52f5880789",
   "metadata": {},
   "outputs": [],
   "source": []
  }
 ],
 "metadata": {
  "kernelspec": {
   "display_name": "Python 3 (ipykernel)",
   "language": "python",
   "name": "python3"
  },
  "language_info": {
   "codemirror_mode": {
    "name": "ipython",
    "version": 3
   },
   "file_extension": ".py",
   "mimetype": "text/x-python",
   "name": "python",
   "nbconvert_exporter": "python",
   "pygments_lexer": "ipython3",
   "version": "3.11.2"
  }
 },
 "nbformat": 4,
 "nbformat_minor": 5
}
